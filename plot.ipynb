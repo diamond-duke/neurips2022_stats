{
 "cells": [
  {
   "cell_type": "code",
   "execution_count": 78,
   "id": "131805a1",
   "metadata": {},
   "outputs": [
    {
     "name": "stdout",
     "output_type": "stream",
     "text": [
      "The autoreload extension is already loaded. To reload it, use:\n",
      "  %reload_ext autoreload\n"
     ]
    }
   ],
   "source": [
    "%matplotlib inline\n",
    "%load_ext autoreload\n",
    "%autoreload 2\n",
    "\n",
    "import os\n",
    "from tqdm import trange\n",
    "from operator import itemgetter\n",
    "import numpy as np\n",
    "from pprint import pprint\n",
    "\n",
    "import matplotlib.pyplot as plt\n",
    "from matplotlib import rc\n",
    "gridc = (1., 1., 1)\n",
    "plt.rcParams['grid.color'] = gridc\n",
    "plt.rcParams[\"axes.edgecolor\"] = (0.898, 0.925, 0.965, 1)\n",
    "plt.rc('xtick', labelsize=12)\n",
    "plt.rc('ytick', labelsize=12)\n",
    "\n",
    "from database import DataBase"
   ]
  },
  {
   "cell_type": "code",
   "execution_count": 6,
   "id": "5b328575",
   "metadata": {},
   "outputs": [],
   "source": [
    "db = DataBase('assets/neurips2021.db')\n",
    "db.initialize()"
   ]
  },
  {
   "cell_type": "markdown",
   "id": "dcd75c52",
   "metadata": {},
   "source": [
    "### statistics"
   ]
  },
  {
   "cell_type": "code",
   "execution_count": 92,
   "id": "0011116b",
   "metadata": {},
   "outputs": [
    {
     "name": "stdout",
     "output_type": "stream",
     "text": [
      "> Total submissions with CE: 298\n",
      "> Decision conflict: 221\n",
      "> Decision consist: 77\n",
      "{'Oral, Oral, Poster': 5,\n",
      " 'Poster, Poster, Poster': 74,\n",
      " 'Poster, Poster, Reject': 174,\n",
      " 'Poster, Poster, Spotlight': 4,\n",
      " 'Poster, Reject, Spotlight': 16,\n",
      " 'Spotlight, Oral, Poster': 1,\n",
      " 'Spotlight, Poster, Spotlight': 12,\n",
      " 'Spotlight, Reject, Spotlight': 9,\n",
      " 'Spotlight, Spotlight, Spotlight': 3}\n"
     ]
    }
   ],
   "source": [
    "# consistency experiment\n",
    "_cmd = \"SELECT * FROM submissions WHERE num_decision == 2 ORDER BY title;\"\n",
    "db.cursor.execute(_cmd)\n",
    "data = db.cursor.fetchall()\n",
    "print(\"> Total submissions with CE: {}\".format(len(data) // 2))\n",
    "num_comflict = 0\n",
    "num_consist = 0\n",
    "ces = {}\n",
    "for i in range(0, len(data), 2):  \n",
    "    dcs = data[i][6].split(' ')[-1].strip('()')\n",
    "    dcs_0 = data[i][7].split(' ')[-1].strip('()')\n",
    "    dcs_1 = data[i + 1][7].split(' ')[-1].strip('()')  \n",
    "    _key = \", \".join(sorted([dcs_0, dcs_1]))\n",
    "    _key = dcs + ', ' + _key\n",
    "    if _key in ces.keys():\n",
    "        ces[_key] += 1\n",
    "    else:\n",
    "        ces.update({_key: 1})\n",
    "    assert data[i][2] == data[i + 1][2], f'not match for {i}'\n",
    "    if dcs_0 != dcs_1:\n",
    "        num_comflict += 1\n",
    "    else:\n",
    "        num_consist += 1\n",
    "print(f\"> Decision conflict: {num_comflict}\")\n",
    "print(f\"> Decision consist: {num_consist}\")\n",
    "pprint(ces)"
   ]
  },
  {
   "cell_type": "markdown",
   "id": "2cbc2868",
   "metadata": {},
   "source": [
    "### write consistency experiment"
   ]
  },
  {
   "cell_type": "code",
   "execution_count": 62,
   "id": "248fd137",
   "metadata": {},
   "outputs": [
    {
     "name": "stderr",
     "output_type": "stream",
     "text": [
      "100%|████████████████████████████████████████████████████████████████████████████████████████████████████| 596/596 [00:00<00:00, 319056.18it/s]\n"
     ]
    }
   ],
   "source": [
    "_cmd = \"SELECT * FROM submissions WHERE num_decision == 2 \" \\\n",
    "       \"ORDER BY CASE final_decision WHEN 'Accept (oral)' \" \\\n",
    "       \"THEN 'a' WHEN 'Accept (Spotlight)' THEN 'b' WHEN 'Accept (Poster)' \" \\\n",
    "       \"THEN 'c' WHEN 'Reject' THEN 'd' END, title DESC;\"\n",
    "db.cursor.execute(_cmd)\n",
    "data = db.cursor.fetchall()\n",
    "\n",
    "# read template \n",
    "with open('neurips2021_consis_exp_template.html', 'r') as f:\n",
    "    html_temp = f.readlines()\n",
    "# find insert index\n",
    "idx = html_temp.index('    <!-- start here -->\\n') + 1\n",
    "\n",
    "# write data\n",
    "for i in trange(len(data)):\n",
    "    _data = data[i]\n",
    "    final_d = _data[6].split(' ')[-1].strip('()')\n",
    "    now_d = _data[7].split(' ')[-1].strip('()')\n",
    "    _str = f\"<tr><td>{i}</td><td class='td-left'><a href='{_data[1]}'> {_data[2]}</a></td>\" \\\n",
    "           f\"<td>{_data[9]:.2f}</td><td>{_data[10]:.2f}</td><td data-sort='{_data[8]}'>{_data[11]}</td>\" \\\n",
    "           f\"<td class='{final_d.lower()}' data-sort='{maps[final_d]}'>{final_d}</td>\" \\\n",
    "           f\"<td class='{now_d.lower()}' data-sort='{maps[now_d]}'>{now_d}</td>\" \\\n",
    "           f\"<td class='th-rank'>{check}</td></tr>\\n\"\n",
    "    html_temp.insert(idx + i, _str)\n",
    "\n",
    "with open('neurips2021_consistency_experiments.html' ,'w') as f:\n",
    "    f.write(\"\".join(html_temp))"
   ]
  },
  {
   "cell_type": "markdown",
   "id": "4ab7f63c",
   "metadata": {},
   "source": [
    "### write all submissions"
   ]
  },
  {
   "cell_type": "code",
   "execution_count": 61,
   "id": "e3f885a0",
   "metadata": {},
   "outputs": [],
   "source": [
    "check = '&#10004;'\n",
    "maps = {\n",
    "    'Oral': 'a',\n",
    "    'Spotlight': 'b',\n",
    "    'Poster': 'c',\n",
    "    'Reject': 'd'\n",
    "}"
   ]
  },
  {
   "cell_type": "code",
   "execution_count": 64,
   "id": "5d31242d",
   "metadata": {},
   "outputs": [
    {
     "name": "stderr",
     "output_type": "stream",
     "text": [
      "100%|██████████████████████████████████████████████████████████████████████████████████████████████████| 2632/2632 [00:00<00:00, 428116.35it/s]\n"
     ]
    }
   ],
   "source": [
    "_cmd = \"SELECT * FROM submissions ORDER BY rating_avg DESC;\"\n",
    "db.cursor.execute(_cmd)\n",
    "data = db.cursor.fetchall()\n",
    "\n",
    "# read template \n",
    "with open('neurips2021_submissions_template.html', 'r') as f:\n",
    "    html_temp = f.readlines()\n",
    "# find insert index\n",
    "idx = html_temp.index('    <!-- start here -->\\n') + 1\n",
    "\n",
    "# write data\n",
    "for i in trange(len(data)):\n",
    "    _data = data[i]\n",
    "    final_d = _data[6].split(' ')[-1].strip('()')\n",
    "    now_d = _data[7].split(' ')[-1].strip('()')\n",
    "    _str = f\"<tr><td>{i}</td><td class='td-left'><a href='{_data[1]}'> {_data[2]}</a></td>\" \\\n",
    "           f\"<td>{_data[9]:.2f}</td><td>{_data[10]:.2f}</td><td data-sort='{_data[8]}'>{_data[11]}</td>\" \\\n",
    "           f\"<td class='{final_d.lower()}' data-sort='{maps[final_d]}'>{final_d}</td>\" \\\n",
    "           f\"<td class='{now_d.lower()}' data-sort='{maps[now_d]}'>{now_d}</td>\" \\\n",
    "           f\"<td class='th-rank'>{check if _data[5] == 2 else ''}</td></tr>\\n\"\n",
    "    html_temp.insert(idx + i, _str)\n",
    "\n",
    "with open('neurips2021_submissions.html' ,'w') as f:\n",
    "    f.write(\"\".join(html_temp))"
   ]
  },
  {
   "cell_type": "code",
   "execution_count": 57,
   "id": "a72230c8",
   "metadata": {},
   "outputs": [
    {
     "data": {
      "text/plain": [
       "0.82915619758885"
      ]
     },
     "execution_count": 57,
     "metadata": {},
     "output_type": "execute_result"
    }
   ],
   "source": [
    "float(_data[10])"
   ]
  },
  {
   "cell_type": "code",
   "execution_count": 50,
   "id": "0db3acd7",
   "metadata": {},
   "outputs": [
    {
     "data": {
      "text/plain": [
       "'6.57'"
      ]
     },
     "execution_count": 50,
     "metadata": {},
     "output_type": "execute_result"
    }
   ],
   "source": [
    "f\"{float(6.567):.2f}\""
   ]
  },
  {
   "cell_type": "code",
   "execution_count": 35,
   "id": "10cae708",
   "metadata": {},
   "outputs": [
    {
     "data": {
      "text/plain": [
       "'asdf'"
      ]
     },
     "execution_count": 35,
     "metadata": {},
     "output_type": "execute_result"
    }
   ],
   "source": [
    "\"(asdf)\".strip(\"()\")"
   ]
  },
  {
   "cell_type": "code",
   "execution_count": 18,
   "id": "3d1d5e98",
   "metadata": {},
   "outputs": [
    {
     "data": {
      "text/plain": [
       "(24,\n",
       " 'https://openreview.net/forum?id=UVQNdLIELSU',\n",
       " 'Replacing Rewards with Examples: Example-Based Policy Search via Recursive Classification',\n",
       " 'reinforcement learning, example-based control',\n",
       " 'Benjamin Eysenbach, Sergey Levine, Ruslan Salakhutdinov',\n",
       " 2,\n",
       " 'Accept (Oral)',\n",
       " 'Accept (Oral)',\n",
       " 4,\n",
       " 8.0,\n",
       " 0.7071067811865476,\n",
       " '8, 7, 9, 8')"
      ]
     },
     "execution_count": 18,
     "metadata": {},
     "output_type": "execute_result"
    }
   ],
   "source": [
    "data[1]"
   ]
  },
  {
   "cell_type": "code",
   "execution_count": 9,
   "id": "caeddbca",
   "metadata": {},
   "outputs": [
    {
     "ename": "OperationalError",
     "evalue": "incomplete input",
     "output_type": "error",
     "traceback": [
      "\u001b[0;31m---------------------------------------------------------------------------\u001b[0m",
      "\u001b[0;31mOperationalError\u001b[0m                          Traceback (most recent call last)",
      "\u001b[0;32m/var/folders/53/50ldyccj2lzdjfdxvbnn8zxm0000gn/T/ipykernel_11355/1939135414.py\u001b[0m in \u001b[0;36m<module>\u001b[0;34m\u001b[0m\n\u001b[0;32m----> 1\u001b[0;31m \u001b[0mdb\u001b[0m\u001b[0;34m.\u001b[0m\u001b[0mcursor\u001b[0m\u001b[0;34m.\u001b[0m\u001b[0mexecute\u001b[0m\u001b[0;34m(\u001b[0m\u001b[0;34m\"select \"\u001b[0m\u001b[0;34m)\u001b[0m\u001b[0;34m\u001b[0m\u001b[0;34m\u001b[0m\u001b[0m\n\u001b[0m",
      "\u001b[0;31mOperationalError\u001b[0m: incomplete input"
     ]
    }
   ],
   "source": [
    "db.cursor.execute(\"select * from submissions where \")"
   ]
  },
  {
   "cell_type": "code",
   "execution_count": 10,
   "id": "f24385d0",
   "metadata": {},
   "outputs": [
    {
     "data": {
      "text/plain": [
       "2334.0"
      ]
     },
     "execution_count": 10,
     "metadata": {},
     "output_type": "execute_result"
    }
   ],
   "source": [
    "2632 - (596 / 2)"
   ]
  },
  {
   "cell_type": "code",
   "execution_count": null,
   "id": "1b85ebd4",
   "metadata": {},
   "outputs": [],
   "source": [
    "\n",
    "metadata = MetaData('assets/data')"
   ]
  },
  {
   "cell_type": "code",
   "execution_count": null,
   "id": "96fabb03",
   "metadata": {},
   "outputs": [],
   "source": [
    "sorted_idxs = np.argsort(metadata.get_all_values_by_key('avg_score'))[::-1]\n",
    "avg_scores = metadata.get_all_values_by_key('avg_score')\n",
    "avg_scores = itemgetter(*sorted_idxs)(avg_scores)\n",
    "titles = metadata.get_all_values_by_key('title')\n",
    "titles = itemgetter(*sorted_idxs)(titles)\n",
    "urls = metadata.get_all_values_by_key('url')\n",
    "urls = itemgetter(*sorted_idxs)(urls)\n",
    "scores = metadata.get_all_values_by_key('scores')\n",
    "scores = itemgetter(*sorted_idxs)(scores)\n",
    "keywords = metadata.get_all_values_by_key('keywords')\n",
    "keywords = itemgetter(*sorted_idxs)(keywords)"
   ]
  },
  {
   "cell_type": "code",
   "execution_count": null,
   "id": "9a08c0c4",
   "metadata": {},
   "outputs": [],
   "source": [
    "hist, bin_edges = np.histogram(avg_scores, bins=20, range=(0, 10))\n",
    "mean_score = np.mean(avg_scores)"
   ]
  },
  {
   "cell_type": "code",
   "execution_count": null,
   "id": "767b9151",
   "metadata": {},
   "outputs": [],
   "source": [
    "width = 0.4\n",
    "fig = plt.figure(figsize=[16, 6])\n",
    "\n",
    "ax = fig.add_subplot(1, 1, 1)\n",
    "ax.set_facecolor((0.898, 0.925, 0.965, 0.5))\n",
    "ax.spines['left'].set_color('w')\n",
    "ax.spines['bottom'].set_color('w')\n",
    "ax.spines['right'].set_color('w')\n",
    "ax.spines['top'].set_color('w')\n",
    "\n",
    "ax.bar(np.linspace(0, 10, len(hist)), hist, width=width, alpha=0.95, \n",
    "       color='#789BFF', capsize=4)\n",
    "\n",
    "for i, v in zip(np.linspace(0, 10, len(hist)), hist):\n",
    "    ax.text(i - 0.2, v + 3.5, str(v), color='#1f59ff', fontsize=16)\n",
    "\n",
    "ax.text(0, 400, f\"Average rating: {mean_score:.1f}\", color='#1f59ff', fontsize=16)\n",
    "plt.ylim(0, 680)\n",
    "plt.xticks(ticks=np.linspace(0, 10, len(hist)), rotation=40, labels=[f\"{d:.1f}\" for d in np.linspace(0, 10, len(hist))])\n",
    "ax.set_ylabel(r\"# submissions\", fontsize=14)\n",
    "ax.set_xlabel(\"Rating\", fontsize=14)\n",
    "ax.set_axisbelow(True)\n",
    "ax.grid()\n",
    "plt.savefig('images/stats_bar.png', dpi=300)\n"
   ]
  }
 ],
 "metadata": {
  "kernelspec": {
   "display_name": "Python 3 (ipykernel)",
   "language": "python",
   "name": "python3"
  },
  "language_info": {
   "codemirror_mode": {
    "name": "ipython",
    "version": 3
   },
   "file_extension": ".py",
   "mimetype": "text/x-python",
   "name": "python",
   "nbconvert_exporter": "python",
   "pygments_lexer": "ipython3",
   "version": "3.8.10"
  }
 },
 "nbformat": 4,
 "nbformat_minor": 5
}
